{
 "cells": [
  {
   "cell_type": "code",
   "execution_count": 1,
   "metadata": {},
   "outputs": [
    {
     "name": "stdout",
     "output_type": "stream",
     "text": [
      "Фраза 1 длиннее фразы 2\n"
     ]
    }
   ],
   "source": [
    "phrase1=len('Насколько проще было бы писать программы, если бы не заказчики') \n",
    "phrase2=len('640Кб должно хватить для любых задач. Билл Гейтс (по легенде)')\n",
    "if phrase1>phrase2:\n",
    "    print('Фраза 1 длиннее фразы 2')\n",
    "elif phrase1<phrase2:\n",
    "    print('Фраза 2 длиннее фразы 1')\n",
    "else:\n",
    "    print('Фразы равной длины')"
   ]
  },
  {
   "cell_type": "code",
   "execution_count": 14,
   "metadata": {},
   "outputs": [
    {
     "name": "stdout",
     "output_type": "stream",
     "text": [
      "обычный год\n"
     ]
    }
   ],
   "source": [
    "year=2021\n",
    "if year%4==0:\n",
    "    print('високосный год')\n",
    "else:\n",
    "    print('обычный год')"
   ]
  },
  {
   "cell_type": "code",
   "execution_count": 37,
   "metadata": {},
   "outputs": [
    {
     "name": "stdout",
     "output_type": "stream",
     "text": [
      "Введите месяцмарт\n",
      "Введите день7\n",
      "Ваш знак зодиака: Рыбы\n"
     ]
    }
   ],
   "source": [
    "month=input('Введите месяц')\n",
    "day=int(input('Введите день'))\n",
    "if month=='март' and day>=21 or month=='апрель' and 30>=day<=20:\n",
    "    print('Ваш знак зодиака: Овен')\n",
    "elif month=='апрель' and day>=21 or month=='май' and 31>=day<=21:\n",
    "    print('Ваш знак зодиака: Телец')\n",
    "elif month=='май' and day>=22 or month=='июнь' and 30>=day<=21:\n",
    "    print('Ваш знак зодиака: Близнецы')\n",
    "elif month=='июнь' and day>=22 or month=='июль' and 31>=day<=22:\n",
    "    print('Ваш знак зодиака: Рак')\n",
    "elif month=='июль' and day>=23 or month=='август' and 31>=day<=21:\n",
    "    print('Ваш знак зодиака: Лев')\n",
    "elif month=='август' and day>=22 or month=='сентябрь' and 30>=day<=23:\n",
    "    print('Ваш знак зодиака: Дева')\n",
    "elif month=='сентябрь' and day>=24 or month=='октябрь' and 31>=day<=23:\n",
    "    print('Ваш знак зодиака: Весы')\n",
    "elif month=='октябрь' and day>=24 or month=='ноябрь' and 30>=day<=22:\n",
    "    print('Ваш знак зодиака: Скорпион')\n",
    "elif month=='ноябрь' and day>=23 or month=='декабрь' and 31>=day<=22:\n",
    "    print('Ваш знак зодиака: Стрелец')\n",
    "elif month=='декабрь' and day>=23 or month=='январь' and 31>=day<=20:\n",
    "    print('Ваш знак зодиака: Козерог')\n",
    "elif month=='январь' and day>=21 or month=='февраль' and 29>=day<=19:\n",
    "    print('Ваш знак зодиака: Водолей')\n",
    "elif month=='февраль' and day>=20 or month=='март' and 31>=day<=20:\n",
    "    print('Ваш знак зодиака: Рыбы')\n",
    "else:\n",
    "    print('проверьте корректность введенной информации')"
   ]
  },
  {
   "cell_type": "code",
   "execution_count": 41,
   "metadata": {},
   "outputs": [
    {
     "name": "stdout",
     "output_type": "stream",
     "text": [
      "Коробка №1\n"
     ]
    }
   ],
   "source": [
    "width = 10\n",
    "length = 8\n",
    "height = 5\n",
    "if width<15 and length<15 and height<15:\n",
    "    print('Коробка №1')\n",
    "elif 15<width<50 or 15<length<50 or 15<height<50:\n",
    "    print('Коробка №2')\n",
    "elif length<200:\n",
    "    print('Коробка для лыж')\n",
    "else:\n",
    "    print('Стандартная коробка №3')"
   ]
  }
 ],
 "metadata": {
  "kernelspec": {
   "display_name": "Python 3",
   "language": "python",
   "name": "python3"
  },
  "language_info": {
   "codemirror_mode": {
    "name": "ipython",
    "version": 3
   },
   "file_extension": ".py",
   "mimetype": "text/x-python",
   "name": "python",
   "nbconvert_exporter": "python",
   "pygments_lexer": "ipython3",
   "version": "3.8.5"
  }
 },
 "nbformat": 4,
 "nbformat_minor": 4
}
