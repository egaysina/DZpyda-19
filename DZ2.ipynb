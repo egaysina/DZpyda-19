{
 "cells": [
  {
   "cell_type": "code",
   "execution_count": 4,
   "metadata": {},
   "outputs": [
    {
     "name": "stdout",
     "output_type": "stream",
     "text": [
      "Ввод слова: дом\n",
      "о\n"
     ]
    }
   ],
   "source": [
    "My_Str = input(\"Ввод слова: \")\n",
    " \n",
    "N_Str = len(My_Str)\n",
    "index_Str = N_Str / 2\n",
    "if N_Str % 2 == 0:\n",
    "    print(My_Str[int(index_Str)-1]) \n",
    "    print(My_Str[int(index_Str)])\n",
    "elif N_Str % 2 !=0:\n",
    "    print(My_Str[int(index_Str)])"
   ]
  },
  {
   "cell_type": "code",
   "execution_count": 5,
   "metadata": {},
   "outputs": [
    {
     "name": "stdout",
     "output_type": "stream",
     "text": [
      "введите число: 5\n",
      "введите число: 6\n",
      "введите число: 7\n",
      "введите число: 0\n",
      "18\n"
     ]
    }
   ],
   "source": [
    "a = int(input('введите число: '))\n",
    "sum_ = 0\n",
    "num = 0\n",
    "while a != 0:\n",
    "    sum_ += a\n",
    "    num += 1\n",
    "    a = int(input('введите число: '))\n",
    "print(sum_)"
   ]
  },
  {
   "cell_type": "code",
   "execution_count": 6,
   "metadata": {},
   "outputs": [
    {
     "name": "stdout",
     "output_type": "stream",
     "text": [
      "<zip object at 0x7fdc01b8f500>\n"
     ]
    }
   ],
   "source": [
    "boys = ['Peter', 'Alex', 'John', 'Arthur', 'Richard']\n",
    "girls = ['Kate', 'Liza', 'Kira', 'Emma', 'Trisha']\n",
    "boys2=sorted(boys)\n",
    "girls2=sorted(girls)\n",
    "boys2_by_girls2=zip(boys2, girls2)\n",
    "if len(boys2) == len(girls2):\n",
    "    print(boys2_by_girls2)\n",
    "else:\n",
    "    print('Опасность! Кто-то может остаться без пары')"
   ]
  },
  {
   "cell_type": "code",
   "execution_count": 7,
   "metadata": {},
   "outputs": [
    {
     "data": {
      "text/plain": [
       "[('Alex', 'Emma'),\n",
       " ('Arthur', 'Kate'),\n",
       " ('John', 'Kira'),\n",
       " ('Peter', 'Liza'),\n",
       " ('Richard', 'Trisha')]"
      ]
     },
     "execution_count": 7,
     "metadata": {},
     "output_type": "execute_result"
    }
   ],
   "source": [
    "list(boys2_by_girls2)"
   ]
  },
  {
   "cell_type": "code",
   "execution_count": 3,
   "metadata": {},
   "outputs": [
    {
     "name": "stdout",
     "output_type": "stream",
     "text": [
      "Thailand , 74.94285714285714\n",
      "Germany , 56.839999999999996\n",
      "Russia , 38.68571428571429\n",
      "Poland , 53.599999999999994\n"
     ]
    }
   ],
   "source": [
    "countries_temperature = [\n",
    "['Thailand', [75.2, 77, 78.8, 73.4, 68, 75.2, 77]],\n",
    "['Germany', [57.2, 55.4, 59, 59, 53.6]],\n",
    "['Russia', [35.6, 37.4, 39.2, 41, 42.8, 39.2, 35.6]],\n",
    "['Poland', [50, 50, 53.6, 57.2, 55.4, 55.4]]\n",
    "]\n",
    "for i in countries_temperature:\n",
    "    print((i[0]),',',sum(i[1])/len(i[1]))"
   ]
  }
 ],
 "metadata": {
  "kernelspec": {
   "display_name": "Python 3",
   "language": "python",
   "name": "python3"
  },
  "language_info": {
   "codemirror_mode": {
    "name": "ipython",
    "version": 3
   },
   "file_extension": ".py",
   "mimetype": "text/x-python",
   "name": "python",
   "nbconvert_exporter": "python",
   "pygments_lexer": "ipython3",
   "version": "3.8.5"
  }
 },
 "nbformat": 4,
 "nbformat_minor": 4
}
