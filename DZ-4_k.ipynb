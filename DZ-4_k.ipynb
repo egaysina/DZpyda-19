{
 "cells": [
  {
   "cell_type": "code",
   "execution_count": 1,
   "metadata": {},
   "outputs": [],
   "source": [
    "documents = [\n",
    "{'type': 'passport', 'number': '2207 876234', 'name': 'Василий Гупкин'},\n",
    "{'type': 'invoice', 'number': '11-2', 'name': 'Геннадий Покемонов'},\n",
    "{'type': 'insurance', 'number': '10006', 'name': 'Аристарх Павлов'}\n",
    "]"
   ]
  },
  {
   "cell_type": "code",
   "execution_count": 2,
   "metadata": {},
   "outputs": [],
   "source": [
    "directories = {\n",
    "'1': ['2207 876234', '11-2'],\n",
    "'2': ['10006'],\n",
    "'3': []\n",
    "}"
   ]
  },
  {
   "cell_type": "code",
   "execution_count": 3,
   "metadata": {},
   "outputs": [],
   "source": [
    "def get_name(docs, number):\n",
    "    documents = list(filter(lambda x: x['number'] == number, docs))\n",
    "    if documents:\n",
    "        return documents[0]['name']\n",
    "    else:\n",
    "        print('Документ не найден в базе ')\n",
    " \n",
    " \n",
    "def get_shelf(dirs, number):\n",
    "    for key, value in dirs.items():\n",
    "        if number in value:\n",
    "            return key\n",
    "    return 'Документ не найден в базе '\n",
    " \n",
    "def get_list(docs):\n",
    "    for shelf in directories:\n",
    "        for num in directories[shelf]:\n",
    "            found = next(e for e in documents if e['number']==num)\n",
    "            print(f'№: {num}, тип:{found[\"type\"]}, владелец:{found[\"name\"]}, полка хранения: {shelf}')\n",
    " \n",
    " \n",
    "def add_doc(docs, shelfs, shelf, type, number, name):\n",
    "    doc = {'type': type, 'number': number, 'name': name}\n",
    "    docs.append(doc)\n",
    "    shelfs[shelf].append(doc['number'])\n",
    "    return 'Документ добавлен'\n",
    "\n",
    "def rem_shelf(number):\n",
    "    if number in directories:\n",
    "        if len(directories[number]) > 0:\n",
    "            return 'На полке есть документа, удалите их перед удалением полки. Текущий перечень полок: ' + ', '.join(directories.keys())\n",
    "        del directories[number]\n",
    "        print('Полка удалена. Текущий перечень полок: ' + ', '.join(directories.keys()))\n",
    "    print ('Такой полки нет. Текущий перечень полок:' + ', '.join(directories.keys()))"
   ]
  },
  {
   "cell_type": "code",
   "execution_count": null,
   "metadata": {},
   "outputs": [
    {
     "name": "stdout",
     "output_type": "stream",
     "text": [
      "Возможные команды: p, s, l, as, ds\n",
      "Введите команду l\n",
      "№: 2207 876234, тип:passport, владелец:Василий Гупкин, полка хранения: 1\n",
      "№: 11-2, тип:invoice, владелец:Геннадий Покемонов, полка хранения: 1\n",
      "№: 10006, тип:insurance, владелец:Аристарх Павлов, полка хранения: 2\n",
      "Возможные команды: p, s, l, as, ds\n"
     ]
    }
   ],
   "source": [
    "while True:\n",
    "    print('Возможные команды: p, s, l, as, ds')\n",
    "    comand = input('Введите команду ')\n",
    " \n",
    "    if comand == 'p':\n",
    "        num = input('Введите номер документа ')\n",
    "        print(get_name(documents, num))\n",
    "    \n",
    "    elif comand == 's':\n",
    "        num = input('Введите номер документа ')\n",
    "        print(get_shelf(directories, num))\n",
    "    \n",
    "    elif comand == 'l':\n",
    "        get_list(documents)\n",
    "    \n",
    "    elif comand == 'as':\n",
    "        shelf = input('Введите номер полки ')\n",
    "        if shelf in directories.keys():\n",
    "            type = input('Введите тип документа. ')\n",
    "            number = input('Введите номер документа. ')\n",
    "            name = input('Введите имя владельца документа ') \n",
    "            add_doc(documents, directories, shelf, type, number, name)\n",
    "            \n",
    "    elif comand == 'ds':\n",
    "        number = input('Введите номер полки: ')\n",
    "        print(rem_shelf(number))\n",
    "        \n",
    "    else:\n",
    "        print(\"Номер полки введен не верно\")"
   ]
  }
 ],
 "metadata": {
  "kernelspec": {
   "display_name": "Python 3",
   "language": "python",
   "name": "python3"
  },
  "language_info": {
   "codemirror_mode": {
    "name": "ipython",
    "version": 3
   },
   "file_extension": ".py",
   "mimetype": "text/x-python",
   "name": "python",
   "nbconvert_exporter": "python",
   "pygments_lexer": "ipython3",
   "version": "3.8.5"
  }
 },
 "nbformat": 4,
 "nbformat_minor": 4
}
