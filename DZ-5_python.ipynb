{
 "cells": [
  {
   "cell_type": "code",
   "execution_count": 12,
   "metadata": {},
   "outputs": [],
   "source": [
    "new_dict = {}\n",
    "with open('/Users/admin/Desktop/ДЗ аналитика/purchase_log.txt') as f:\n",
    "    for line in f:\n",
    "        dict_ = json.loads(line)\n",
    "        new_dict[ dict_['user_id'] ] = dict_['category']\n",
    "with open('/Users/admin/results.txt', 'w') as fout: \n",
    "    fout.write(json.dumps(new_dict))\n",
    "f.close()"
   ]
  },
  {
   "cell_type": "code",
   "execution_count": 13,
   "metadata": {},
   "outputs": [],
   "source": [
    "import json\n",
    "list_of_purchase = []\n",
    "with open('/Users/admin/Desktop/ДЗ аналитика/purchase_log.txt') as pur_fl:\n",
    "    for line in pur_fl:\n",
    "        dict_ = json.loads(line)\n",
    "        list_of_purchase.append(dict_)\n",
    "def products_name_ram(prod_name):\n",
    "    for d in list_of_purchase:\n",
    "        if (d['user_id'] == prod_name):\n",
    "            return d['category']\n",
    "    return None\n",
    "with open('/Users/admin/Desktop/ДЗ аналитика/results.txt', 'w') as result:\n",
    "    with open('/Users/admin/Desktop/ДЗ аналитика/visit_log.csv') as vis_lg:\n",
    "        for line in vis_lg:\n",
    "            user_id =line.strip().split(',')[0]\n",
    "            category = products_name_ram(user_id)\n",
    "            if category:\n",
    "                line_out = line.rstrip() + ', ' + str(category) + '\\r'\n",
    "                result.write(line_out)"
   ]
  }
 ],
 "metadata": {
  "kernelspec": {
   "display_name": "Python 3",
   "language": "python",
   "name": "python3"
  },
  "language_info": {
   "codemirror_mode": {
    "name": "ipython",
    "version": 3
   },
   "file_extension": ".py",
   "mimetype": "text/x-python",
   "name": "python",
   "nbconvert_exporter": "python",
   "pygments_lexer": "ipython3",
   "version": "3.8.5"
  }
 },
 "nbformat": 4,
 "nbformat_minor": 4
}
